{
 "cells": [
  {
   "cell_type": "markdown",
   "id": "9ab1f7a6",
   "metadata": {},
   "source": [
    "# House Prices - Advanced Regression Techniques\n",
    "(Preços de casas - Técnicas Avançadas de Regressão)\n",
    "\n",
    "<img src=\"https://storage.googleapis.com/kaggle-competitions/kaggle/5407/media/housesbanner.png\" width=800>\n",
    "\n",
    "\n",
    "- Vamos utilizar o [dataset disponível no Kaggle](https://www.kaggle.com/competitions/house-prices-advanced-regression-techniques/overview)\n",
    "    - É um dataset de **competição**\n",
    "    - Temos uma base com a **descrição de cada uma das colunas (data_description.txt)**"
   ]
  },
  {
   "cell_type": "code",
   "execution_count": 1,
   "id": "0233c934",
   "metadata": {},
   "outputs": [],
   "source": [
    "# Importando o pandas\n",
    "import pandas as pd"
   ]
  },
  {
   "cell_type": "code",
   "execution_count": 2,
   "id": "3c8d95e7",
   "metadata": {},
   "outputs": [],
   "source": [
    "# Importando o dataset de treino\n",
    "base = pd.read_csv(\"train.csv\")"
   ]
  },
  {
   "cell_type": "code",
   "execution_count": 5,
   "id": "bfd24d0c",
   "metadata": {},
   "outputs": [
    {
     "data": {
      "application/vnd.microsoft.datawrangler.viewer.v0+json": {
       "columns": [
        {
         "name": "index",
         "rawType": "int64",
         "type": "integer"
        },
        {
         "name": "Id",
         "rawType": "int64",
         "type": "integer"
        },
        {
         "name": "MSSubClass",
         "rawType": "int64",
         "type": "integer"
        },
        {
         "name": "MSZoning",
         "rawType": "object",
         "type": "string"
        },
        {
         "name": "LotFrontage",
         "rawType": "float64",
         "type": "float"
        },
        {
         "name": "LotArea",
         "rawType": "int64",
         "type": "integer"
        },
        {
         "name": "Street",
         "rawType": "object",
         "type": "string"
        },
        {
         "name": "Alley",
         "rawType": "object",
         "type": "unknown"
        },
        {
         "name": "LotShape",
         "rawType": "object",
         "type": "string"
        },
        {
         "name": "LandContour",
         "rawType": "object",
         "type": "string"
        },
        {
         "name": "Utilities",
         "rawType": "object",
         "type": "string"
        },
        {
         "name": "LotConfig",
         "rawType": "object",
         "type": "string"
        },
        {
         "name": "LandSlope",
         "rawType": "object",
         "type": "string"
        },
        {
         "name": "Neighborhood",
         "rawType": "object",
         "type": "string"
        },
        {
         "name": "Condition1",
         "rawType": "object",
         "type": "string"
        },
        {
         "name": "Condition2",
         "rawType": "object",
         "type": "string"
        },
        {
         "name": "BldgType",
         "rawType": "object",
         "type": "string"
        },
        {
         "name": "HouseStyle",
         "rawType": "object",
         "type": "string"
        },
        {
         "name": "OverallQual",
         "rawType": "int64",
         "type": "integer"
        },
        {
         "name": "OverallCond",
         "rawType": "int64",
         "type": "integer"
        },
        {
         "name": "YearBuilt",
         "rawType": "int64",
         "type": "integer"
        },
        {
         "name": "YearRemodAdd",
         "rawType": "int64",
         "type": "integer"
        },
        {
         "name": "RoofStyle",
         "rawType": "object",
         "type": "string"
        },
        {
         "name": "RoofMatl",
         "rawType": "object",
         "type": "string"
        },
        {
         "name": "Exterior1st",
         "rawType": "object",
         "type": "string"
        },
        {
         "name": "Exterior2nd",
         "rawType": "object",
         "type": "string"
        },
        {
         "name": "MasVnrType",
         "rawType": "object",
         "type": "unknown"
        },
        {
         "name": "MasVnrArea",
         "rawType": "float64",
         "type": "float"
        },
        {
         "name": "ExterQual",
         "rawType": "object",
         "type": "string"
        },
        {
         "name": "ExterCond",
         "rawType": "object",
         "type": "string"
        },
        {
         "name": "Foundation",
         "rawType": "object",
         "type": "string"
        },
        {
         "name": "BsmtQual",
         "rawType": "object",
         "type": "string"
        },
        {
         "name": "BsmtCond",
         "rawType": "object",
         "type": "string"
        },
        {
         "name": "BsmtExposure",
         "rawType": "object",
         "type": "string"
        },
        {
         "name": "BsmtFinType1",
         "rawType": "object",
         "type": "string"
        },
        {
         "name": "BsmtFinSF1",
         "rawType": "int64",
         "type": "integer"
        },
        {
         "name": "BsmtFinType2",
         "rawType": "object",
         "type": "string"
        },
        {
         "name": "BsmtFinSF2",
         "rawType": "int64",
         "type": "integer"
        },
        {
         "name": "BsmtUnfSF",
         "rawType": "int64",
         "type": "integer"
        },
        {
         "name": "TotalBsmtSF",
         "rawType": "int64",
         "type": "integer"
        },
        {
         "name": "Heating",
         "rawType": "object",
         "type": "string"
        },
        {
         "name": "HeatingQC",
         "rawType": "object",
         "type": "string"
        },
        {
         "name": "CentralAir",
         "rawType": "object",
         "type": "string"
        },
        {
         "name": "Electrical",
         "rawType": "object",
         "type": "string"
        },
        {
         "name": "1stFlrSF",
         "rawType": "int64",
         "type": "integer"
        },
        {
         "name": "2ndFlrSF",
         "rawType": "int64",
         "type": "integer"
        },
        {
         "name": "LowQualFinSF",
         "rawType": "int64",
         "type": "integer"
        },
        {
         "name": "GrLivArea",
         "rawType": "int64",
         "type": "integer"
        },
        {
         "name": "BsmtFullBath",
         "rawType": "int64",
         "type": "integer"
        },
        {
         "name": "BsmtHalfBath",
         "rawType": "int64",
         "type": "integer"
        },
        {
         "name": "FullBath",
         "rawType": "int64",
         "type": "integer"
        },
        {
         "name": "HalfBath",
         "rawType": "int64",
         "type": "integer"
        },
        {
         "name": "BedroomAbvGr",
         "rawType": "int64",
         "type": "integer"
        },
        {
         "name": "KitchenAbvGr",
         "rawType": "int64",
         "type": "integer"
        },
        {
         "name": "KitchenQual",
         "rawType": "object",
         "type": "string"
        },
        {
         "name": "TotRmsAbvGrd",
         "rawType": "int64",
         "type": "integer"
        },
        {
         "name": "Functional",
         "rawType": "object",
         "type": "string"
        },
        {
         "name": "Fireplaces",
         "rawType": "int64",
         "type": "integer"
        },
        {
         "name": "FireplaceQu",
         "rawType": "object",
         "type": "unknown"
        },
        {
         "name": "GarageType",
         "rawType": "object",
         "type": "string"
        },
        {
         "name": "GarageYrBlt",
         "rawType": "float64",
         "type": "float"
        },
        {
         "name": "GarageFinish",
         "rawType": "object",
         "type": "string"
        },
        {
         "name": "GarageCars",
         "rawType": "int64",
         "type": "integer"
        },
        {
         "name": "GarageArea",
         "rawType": "int64",
         "type": "integer"
        },
        {
         "name": "GarageQual",
         "rawType": "object",
         "type": "string"
        },
        {
         "name": "GarageCond",
         "rawType": "object",
         "type": "string"
        },
        {
         "name": "PavedDrive",
         "rawType": "object",
         "type": "string"
        },
        {
         "name": "WoodDeckSF",
         "rawType": "int64",
         "type": "integer"
        },
        {
         "name": "OpenPorchSF",
         "rawType": "int64",
         "type": "integer"
        },
        {
         "name": "EnclosedPorch",
         "rawType": "int64",
         "type": "integer"
        },
        {
         "name": "3SsnPorch",
         "rawType": "int64",
         "type": "integer"
        },
        {
         "name": "ScreenPorch",
         "rawType": "int64",
         "type": "integer"
        },
        {
         "name": "PoolArea",
         "rawType": "int64",
         "type": "integer"
        },
        {
         "name": "PoolQC",
         "rawType": "object",
         "type": "unknown"
        },
        {
         "name": "Fence",
         "rawType": "object",
         "type": "unknown"
        },
        {
         "name": "MiscFeature",
         "rawType": "object",
         "type": "unknown"
        },
        {
         "name": "MiscVal",
         "rawType": "int64",
         "type": "integer"
        },
        {
         "name": "MoSold",
         "rawType": "int64",
         "type": "integer"
        },
        {
         "name": "YrSold",
         "rawType": "int64",
         "type": "integer"
        },
        {
         "name": "SaleType",
         "rawType": "object",
         "type": "string"
        },
        {
         "name": "SaleCondition",
         "rawType": "object",
         "type": "string"
        },
        {
         "name": "SalePrice",
         "rawType": "int64",
         "type": "integer"
        }
       ],
       "conversionMethod": "pd.DataFrame",
       "ref": "a971a2ec-5b7c-4b1c-89ac-c767d2619c98",
       "rows": [
        [
         "0",
         "1",
         "60",
         "RL",
         "65.0",
         "8450",
         "Pave",
         null,
         "Reg",
         "Lvl",
         "AllPub",
         "Inside",
         "Gtl",
         "CollgCr",
         "Norm",
         "Norm",
         "1Fam",
         "2Story",
         "7",
         "5",
         "2003",
         "2003",
         "Gable",
         "CompShg",
         "VinylSd",
         "VinylSd",
         "BrkFace",
         "196.0",
         "Gd",
         "TA",
         "PConc",
         "Gd",
         "TA",
         "No",
         "GLQ",
         "706",
         "Unf",
         "0",
         "150",
         "856",
         "GasA",
         "Ex",
         "Y",
         "SBrkr",
         "856",
         "854",
         "0",
         "1710",
         "1",
         "0",
         "2",
         "1",
         "3",
         "1",
         "Gd",
         "8",
         "Typ",
         "0",
         null,
         "Attchd",
         "2003.0",
         "RFn",
         "2",
         "548",
         "TA",
         "TA",
         "Y",
         "0",
         "61",
         "0",
         "0",
         "0",
         "0",
         null,
         null,
         null,
         "0",
         "2",
         "2008",
         "WD",
         "Normal",
         "208500"
        ],
        [
         "1",
         "2",
         "20",
         "RL",
         "80.0",
         "9600",
         "Pave",
         null,
         "Reg",
         "Lvl",
         "AllPub",
         "FR2",
         "Gtl",
         "Veenker",
         "Feedr",
         "Norm",
         "1Fam",
         "1Story",
         "6",
         "8",
         "1976",
         "1976",
         "Gable",
         "CompShg",
         "MetalSd",
         "MetalSd",
         null,
         "0.0",
         "TA",
         "TA",
         "CBlock",
         "Gd",
         "TA",
         "Gd",
         "ALQ",
         "978",
         "Unf",
         "0",
         "284",
         "1262",
         "GasA",
         "Ex",
         "Y",
         "SBrkr",
         "1262",
         "0",
         "0",
         "1262",
         "0",
         "1",
         "2",
         "0",
         "3",
         "1",
         "TA",
         "6",
         "Typ",
         "1",
         "TA",
         "Attchd",
         "1976.0",
         "RFn",
         "2",
         "460",
         "TA",
         "TA",
         "Y",
         "298",
         "0",
         "0",
         "0",
         "0",
         "0",
         null,
         null,
         null,
         "0",
         "5",
         "2007",
         "WD",
         "Normal",
         "181500"
        ],
        [
         "2",
         "3",
         "60",
         "RL",
         "68.0",
         "11250",
         "Pave",
         null,
         "IR1",
         "Lvl",
         "AllPub",
         "Inside",
         "Gtl",
         "CollgCr",
         "Norm",
         "Norm",
         "1Fam",
         "2Story",
         "7",
         "5",
         "2001",
         "2002",
         "Gable",
         "CompShg",
         "VinylSd",
         "VinylSd",
         "BrkFace",
         "162.0",
         "Gd",
         "TA",
         "PConc",
         "Gd",
         "TA",
         "Mn",
         "GLQ",
         "486",
         "Unf",
         "0",
         "434",
         "920",
         "GasA",
         "Ex",
         "Y",
         "SBrkr",
         "920",
         "866",
         "0",
         "1786",
         "1",
         "0",
         "2",
         "1",
         "3",
         "1",
         "Gd",
         "6",
         "Typ",
         "1",
         "TA",
         "Attchd",
         "2001.0",
         "RFn",
         "2",
         "608",
         "TA",
         "TA",
         "Y",
         "0",
         "42",
         "0",
         "0",
         "0",
         "0",
         null,
         null,
         null,
         "0",
         "9",
         "2008",
         "WD",
         "Normal",
         "223500"
        ]
       ],
       "shape": {
        "columns": 81,
        "rows": 3
       }
      },
      "text/html": [
       "<div>\n",
       "<style scoped>\n",
       "    .dataframe tbody tr th:only-of-type {\n",
       "        vertical-align: middle;\n",
       "    }\n",
       "\n",
       "    .dataframe tbody tr th {\n",
       "        vertical-align: top;\n",
       "    }\n",
       "\n",
       "    .dataframe thead th {\n",
       "        text-align: right;\n",
       "    }\n",
       "</style>\n",
       "<table border=\"1\" class=\"dataframe\">\n",
       "  <thead>\n",
       "    <tr style=\"text-align: right;\">\n",
       "      <th></th>\n",
       "      <th>Id</th>\n",
       "      <th>MSSubClass</th>\n",
       "      <th>MSZoning</th>\n",
       "      <th>LotFrontage</th>\n",
       "      <th>LotArea</th>\n",
       "      <th>Street</th>\n",
       "      <th>Alley</th>\n",
       "      <th>LotShape</th>\n",
       "      <th>LandContour</th>\n",
       "      <th>Utilities</th>\n",
       "      <th>...</th>\n",
       "      <th>PoolArea</th>\n",
       "      <th>PoolQC</th>\n",
       "      <th>Fence</th>\n",
       "      <th>MiscFeature</th>\n",
       "      <th>MiscVal</th>\n",
       "      <th>MoSold</th>\n",
       "      <th>YrSold</th>\n",
       "      <th>SaleType</th>\n",
       "      <th>SaleCondition</th>\n",
       "      <th>SalePrice</th>\n",
       "    </tr>\n",
       "  </thead>\n",
       "  <tbody>\n",
       "    <tr>\n",
       "      <th>0</th>\n",
       "      <td>1</td>\n",
       "      <td>60</td>\n",
       "      <td>RL</td>\n",
       "      <td>65.0</td>\n",
       "      <td>8450</td>\n",
       "      <td>Pave</td>\n",
       "      <td>NaN</td>\n",
       "      <td>Reg</td>\n",
       "      <td>Lvl</td>\n",
       "      <td>AllPub</td>\n",
       "      <td>...</td>\n",
       "      <td>0</td>\n",
       "      <td>NaN</td>\n",
       "      <td>NaN</td>\n",
       "      <td>NaN</td>\n",
       "      <td>0</td>\n",
       "      <td>2</td>\n",
       "      <td>2008</td>\n",
       "      <td>WD</td>\n",
       "      <td>Normal</td>\n",
       "      <td>208500</td>\n",
       "    </tr>\n",
       "    <tr>\n",
       "      <th>1</th>\n",
       "      <td>2</td>\n",
       "      <td>20</td>\n",
       "      <td>RL</td>\n",
       "      <td>80.0</td>\n",
       "      <td>9600</td>\n",
       "      <td>Pave</td>\n",
       "      <td>NaN</td>\n",
       "      <td>Reg</td>\n",
       "      <td>Lvl</td>\n",
       "      <td>AllPub</td>\n",
       "      <td>...</td>\n",
       "      <td>0</td>\n",
       "      <td>NaN</td>\n",
       "      <td>NaN</td>\n",
       "      <td>NaN</td>\n",
       "      <td>0</td>\n",
       "      <td>5</td>\n",
       "      <td>2007</td>\n",
       "      <td>WD</td>\n",
       "      <td>Normal</td>\n",
       "      <td>181500</td>\n",
       "    </tr>\n",
       "    <tr>\n",
       "      <th>2</th>\n",
       "      <td>3</td>\n",
       "      <td>60</td>\n",
       "      <td>RL</td>\n",
       "      <td>68.0</td>\n",
       "      <td>11250</td>\n",
       "      <td>Pave</td>\n",
       "      <td>NaN</td>\n",
       "      <td>IR1</td>\n",
       "      <td>Lvl</td>\n",
       "      <td>AllPub</td>\n",
       "      <td>...</td>\n",
       "      <td>0</td>\n",
       "      <td>NaN</td>\n",
       "      <td>NaN</td>\n",
       "      <td>NaN</td>\n",
       "      <td>0</td>\n",
       "      <td>9</td>\n",
       "      <td>2008</td>\n",
       "      <td>WD</td>\n",
       "      <td>Normal</td>\n",
       "      <td>223500</td>\n",
       "    </tr>\n",
       "  </tbody>\n",
       "</table>\n",
       "<p>3 rows × 81 columns</p>\n",
       "</div>"
      ],
      "text/plain": [
       "   Id  MSSubClass MSZoning  LotFrontage  LotArea Street Alley LotShape  \\\n",
       "0   1          60       RL         65.0     8450   Pave   NaN      Reg   \n",
       "1   2          20       RL         80.0     9600   Pave   NaN      Reg   \n",
       "2   3          60       RL         68.0    11250   Pave   NaN      IR1   \n",
       "\n",
       "  LandContour Utilities  ... PoolArea PoolQC Fence MiscFeature MiscVal MoSold  \\\n",
       "0         Lvl    AllPub  ...        0    NaN   NaN         NaN       0      2   \n",
       "1         Lvl    AllPub  ...        0    NaN   NaN         NaN       0      5   \n",
       "2         Lvl    AllPub  ...        0    NaN   NaN         NaN       0      9   \n",
       "\n",
       "  YrSold  SaleType  SaleCondition  SalePrice  \n",
       "0   2008        WD         Normal     208500  \n",
       "1   2007        WD         Normal     181500  \n",
       "2   2008        WD         Normal     223500  \n",
       "\n",
       "[3 rows x 81 columns]"
      ]
     },
     "execution_count": 5,
     "metadata": {},
     "output_type": "execute_result"
    }
   ],
   "source": [
    "# Visualizando essa base\n",
    "base.head(3)"
   ]
  },
  {
   "cell_type": "code",
   "execution_count": 4,
   "id": "3bbab431",
   "metadata": {},
   "outputs": [
    {
     "data": {
      "text/plain": [
       "(1460, 81)"
      ]
     },
     "execution_count": 4,
     "metadata": {},
     "output_type": "execute_result"
    }
   ],
   "source": [
    "# Retornando o shape da base\n",
    "base.shape"
   ]
  },
  {
   "cell_type": "code",
   "execution_count": 6,
   "id": "ba3f0cd6",
   "metadata": {},
   "outputs": [
    {
     "name": "stdout",
     "output_type": "stream",
     "text": [
      "<class 'pandas.core.frame.DataFrame'>\n",
      "RangeIndex: 1460 entries, 0 to 1459\n",
      "Data columns (total 81 columns):\n",
      " #   Column         Non-Null Count  Dtype  \n",
      "---  ------         --------------  -----  \n",
      " 0   Id             1460 non-null   int64  \n",
      " 1   MSSubClass     1460 non-null   int64  \n",
      " 2   MSZoning       1460 non-null   object \n",
      " 3   LotFrontage    1201 non-null   float64\n",
      " 4   LotArea        1460 non-null   int64  \n",
      " 5   Street         1460 non-null   object \n",
      " 6   Alley          91 non-null     object \n",
      " 7   LotShape       1460 non-null   object \n",
      " 8   LandContour    1460 non-null   object \n",
      " 9   Utilities      1460 non-null   object \n",
      " 10  LotConfig      1460 non-null   object \n",
      " 11  LandSlope      1460 non-null   object \n",
      " 12  Neighborhood   1460 non-null   object \n",
      " 13  Condition1     1460 non-null   object \n",
      " 14  Condition2     1460 non-null   object \n",
      " 15  BldgType       1460 non-null   object \n",
      " 16  HouseStyle     1460 non-null   object \n",
      " 17  OverallQual    1460 non-null   int64  \n",
      " 18  OverallCond    1460 non-null   int64  \n",
      " 19  YearBuilt      1460 non-null   int64  \n",
      " 20  YearRemodAdd   1460 non-null   int64  \n",
      " 21  RoofStyle      1460 non-null   object \n",
      " 22  RoofMatl       1460 non-null   object \n",
      " 23  Exterior1st    1460 non-null   object \n",
      " 24  Exterior2nd    1460 non-null   object \n",
      " 25  MasVnrType     588 non-null    object \n",
      " 26  MasVnrArea     1452 non-null   float64\n",
      " 27  ExterQual      1460 non-null   object \n",
      " 28  ExterCond      1460 non-null   object \n",
      " 29  Foundation     1460 non-null   object \n",
      " 30  BsmtQual       1423 non-null   object \n",
      " 31  BsmtCond       1423 non-null   object \n",
      " 32  BsmtExposure   1422 non-null   object \n",
      " 33  BsmtFinType1   1423 non-null   object \n",
      " 34  BsmtFinSF1     1460 non-null   int64  \n",
      " 35  BsmtFinType2   1422 non-null   object \n",
      " 36  BsmtFinSF2     1460 non-null   int64  \n",
      " 37  BsmtUnfSF      1460 non-null   int64  \n",
      " 38  TotalBsmtSF    1460 non-null   int64  \n",
      " 39  Heating        1460 non-null   object \n",
      " 40  HeatingQC      1460 non-null   object \n",
      " 41  CentralAir     1460 non-null   object \n",
      " 42  Electrical     1459 non-null   object \n",
      " 43  1stFlrSF       1460 non-null   int64  \n",
      " 44  2ndFlrSF       1460 non-null   int64  \n",
      " 45  LowQualFinSF   1460 non-null   int64  \n",
      " 46  GrLivArea      1460 non-null   int64  \n",
      " 47  BsmtFullBath   1460 non-null   int64  \n",
      " 48  BsmtHalfBath   1460 non-null   int64  \n",
      " 49  FullBath       1460 non-null   int64  \n",
      " 50  HalfBath       1460 non-null   int64  \n",
      " 51  BedroomAbvGr   1460 non-null   int64  \n",
      " 52  KitchenAbvGr   1460 non-null   int64  \n",
      " 53  KitchenQual    1460 non-null   object \n",
      " 54  TotRmsAbvGrd   1460 non-null   int64  \n",
      " 55  Functional     1460 non-null   object \n",
      " 56  Fireplaces     1460 non-null   int64  \n",
      " 57  FireplaceQu    770 non-null    object \n",
      " 58  GarageType     1379 non-null   object \n",
      " 59  GarageYrBlt    1379 non-null   float64\n",
      " 60  GarageFinish   1379 non-null   object \n",
      " 61  GarageCars     1460 non-null   int64  \n",
      " 62  GarageArea     1460 non-null   int64  \n",
      " 63  GarageQual     1379 non-null   object \n",
      " 64  GarageCond     1379 non-null   object \n",
      " 65  PavedDrive     1460 non-null   object \n",
      " 66  WoodDeckSF     1460 non-null   int64  \n",
      " 67  OpenPorchSF    1460 non-null   int64  \n",
      " 68  EnclosedPorch  1460 non-null   int64  \n",
      " 69  3SsnPorch      1460 non-null   int64  \n",
      " 70  ScreenPorch    1460 non-null   int64  \n",
      " 71  PoolArea       1460 non-null   int64  \n",
      " 72  PoolQC         7 non-null      object \n",
      " 73  Fence          281 non-null    object \n",
      " 74  MiscFeature    54 non-null     object \n",
      " 75  MiscVal        1460 non-null   int64  \n",
      " 76  MoSold         1460 non-null   int64  \n",
      " 77  YrSold         1460 non-null   int64  \n",
      " 78  SaleType       1460 non-null   object \n",
      " 79  SaleCondition  1460 non-null   object \n",
      " 80  SalePrice      1460 non-null   int64  \n",
      "dtypes: float64(3), int64(35), object(43)\n",
      "memory usage: 924.0+ KB\n"
     ]
    }
   ],
   "source": [
    "# E as informações\n",
    "base.info()"
   ]
  },
  {
   "cell_type": "markdown",
   "id": "2db0cfd3",
   "metadata": {},
   "source": [
    "## Começando a explorar os dados"
   ]
  },
  {
   "cell_type": "code",
   "execution_count": 15,
   "id": "b6528772",
   "metadata": {},
   "outputs": [
    {
     "data": {
      "text/plain": [
       "GarageYrBlt     5.55\n",
       "GarageQual      5.55\n",
       "GarageCond      5.55\n",
       "GarageType      5.55\n",
       "GarageFinish    5.55\n",
       "BsmtFinType2    2.60\n",
       "BsmtExposure    2.60\n",
       "BsmtQual        2.53\n",
       "BsmtCond        2.53\n",
       "BsmtFinType1    2.53\n",
       "MasVnrArea      0.55\n",
       "Electrical      0.07\n",
       "LandSlope       0.00\n",
       "LotConfig       0.00\n",
       "LotShape        0.00\n",
       "Street          0.00\n",
       "LotArea         0.00\n",
       "MSZoning        0.00\n",
       "MSSubClass      0.00\n",
       "Id              0.00\n",
       "dtype: float64"
      ]
     },
     "execution_count": 15,
     "metadata": {},
     "output_type": "execute_result"
    }
   ],
   "source": [
    "# Visualizando quantidade de valores vazios\n",
    "(base.isnull().sum()/base.shape[0]).sort_values(ascending=False).head(20).round(4) * 100"
   ]
  },
  {
   "cell_type": "code",
   "execution_count": 13,
   "id": "bda71526",
   "metadata": {},
   "outputs": [
    {
     "data": {
      "text/plain": [
       "Index(['LotFrontage', 'Alley', 'MasVnrType', 'FireplaceQu', 'PoolQC', 'Fence',\n",
       "       'MiscFeature'],\n",
       "      dtype='object')"
      ]
     },
     "execution_count": 13,
     "metadata": {},
     "output_type": "execute_result"
    }
   ],
   "source": [
    "# Podemos eliminar as colunas com mais de 10% de valores vazios\n",
    "eliminar = base.columns[(base.isnull().sum()/base.shape[0]) > 0.1]\n",
    "eliminar"
   ]
  },
  {
   "cell_type": "code",
   "execution_count": 14,
   "id": "ff97453f",
   "metadata": {},
   "outputs": [],
   "source": [
    "# Eliminando essas colunas\n",
    "base = base.drop(eliminar, axis=1)"
   ]
  },
  {
   "cell_type": "markdown",
   "id": "7e83cd85",
   "metadata": {},
   "source": [
    "- Queremos criar um primeiro modelo para verificar o quanto estamos errando e depois planejar como melhorar. Para isso:\n",
    "    - Vamos **eliminar as colunas de texto**\n",
    "    - Precisamos **tratar os valores vazios**\n",
    "    - Vamos **escolher alguns algoritmos para testar e um método de avaliação de erro**"
   ]
  },
  {
   "cell_type": "code",
   "execution_count": 16,
   "id": "572df872",
   "metadata": {},
   "outputs": [],
   "source": [
    "# Selecionando apenas as colunas numéricas\n",
    "colunas = base.columns[base.dtypes != \"object\"]"
   ]
  },
  {
   "cell_type": "code",
   "execution_count": 17,
   "id": "2bd4e288",
   "metadata": {},
   "outputs": [],
   "source": [
    "# E criar uma nova base com esses valores\n",
    "base2 = base.loc[:,colunas]"
   ]
  },
  {
   "cell_type": "code",
   "execution_count": 24,
   "id": "3718a7dd",
   "metadata": {},
   "outputs": [
    {
     "data": {
      "text/plain": [
       "GarageYrBlt    81\n",
       "MasVnrArea      8\n",
       "LotArea         0\n",
       "dtype: int64"
      ]
     },
     "execution_count": 24,
     "metadata": {},
     "output_type": "execute_result"
    }
   ],
   "source": [
    "# Verificando os valores vazios\n",
    "base2.isnull().sum().sort_values(ascending=False).head(3)"
   ]
  },
  {
   "cell_type": "code",
   "execution_count": 25,
   "id": "4a656932",
   "metadata": {},
   "outputs": [],
   "source": [
    "# Substituindo os valores vazios por -1\n",
    "base2 = base2.fillna(-1)"
   ]
  },
  {
   "cell_type": "markdown",
   "id": "3fe0ffdf",
   "metadata": {},
   "source": [
    "- Essa será nossa base inicial para começar"
   ]
  },
  {
   "cell_type": "markdown",
   "id": "5a686ce6",
   "metadata": {},
   "source": [
    "## Criando nosso modelo"
   ]
  },
  {
   "cell_type": "markdown",
   "id": "ee0b769c",
   "metadata": {},
   "source": [
    "- **Vamos separar em treino e teste**\n",
    "    - https://scikit-learn.org/stable/modules/generated/sklearn.model_selection.train_test_split.html"
   ]
  },
  {
   "cell_type": "code",
   "execution_count": 26,
   "id": "2c7a6ac4",
   "metadata": {},
   "outputs": [],
   "source": [
    "from sklearn.model_selection import train_test_split\n",
    "X = base2.drop(\"SalePrice\", axis=1)\n",
    "y = base2[\"SalePrice\"]"
   ]
  },
  {
   "cell_type": "code",
   "execution_count": 27,
   "id": "6ec49ce2",
   "metadata": {},
   "outputs": [],
   "source": [
    "# Separando essa base em treino e teste \n",
    "X_train, X_test, y_train, y_test = train_test_split(X, y, test_size=0.3, random_state=42)"
   ]
  },
  {
   "cell_type": "markdown",
   "id": "72614e5e",
   "metadata": {},
   "source": [
    "- **O próximo passo é selecionar os algoritmos que vamos utilizar. Podemos começar com os algoritmos mais simples como:**\n",
    "    - Regressão Linear\n",
    "        - https://scikit-learn.org/stable/modules/generated/sklearn.linear_model.LinearRegression.html\n",
    "    - Árvore de Regressão\n",
    "        - https://scikit-learn.org/stable/modules/tree.html#regression\n",
    "    - KNeighborsRegressor\n",
    "        - https://scikit-learn.org/stable/modules/generated/sklearn.neighbors.KNeighborsRegressor.html#sklearn.neighbors.KNeighborsRegressor"
   ]
  },
  {
   "cell_type": "code",
   "execution_count": 28,
   "id": "50bf2902",
   "metadata": {},
   "outputs": [],
   "source": [
    "# Importando a regressão linear\n",
    "from sklearn.linear_model import LinearRegression   "
   ]
  },
  {
   "cell_type": "code",
   "execution_count": 29,
   "id": "76235128",
   "metadata": {},
   "outputs": [],
   "source": [
    "# Criando o regressor e fazendo o fit com os dados de treino\n",
    "reg_rl = LinearRegression().fit(X_train, y_train)"
   ]
  },
  {
   "cell_type": "code",
   "execution_count": 30,
   "id": "581ebb2d",
   "metadata": {},
   "outputs": [],
   "source": [
    "# Fazendo a previsão pros dados de teste\n",
    "y_rl = reg_rl.predict(X_test)"
   ]
  },
  {
   "cell_type": "code",
   "execution_count": 31,
   "id": "1bfbbbdf",
   "metadata": {},
   "outputs": [],
   "source": [
    "# Importando a árvore de regressão\n",
    "from sklearn.tree import DecisionTreeRegressor"
   ]
  },
  {
   "cell_type": "code",
   "execution_count": 32,
   "id": "b4bacf9b",
   "metadata": {},
   "outputs": [],
   "source": [
    "# Criando o regressor e fazendo o fit com os dados de treino\n",
    "reg_ar = DecisionTreeRegressor(random_state=42).fit(X_train, y_train)"
   ]
  },
  {
   "cell_type": "code",
   "execution_count": 33,
   "id": "8f44b273",
   "metadata": {},
   "outputs": [],
   "source": [
    "# Fazendo a previsão\n",
    "y_ar = reg_ar.predict(X_test)"
   ]
  },
  {
   "cell_type": "code",
   "execution_count": 34,
   "id": "a2286fb9",
   "metadata": {},
   "outputs": [],
   "source": [
    "# Importando o KNN\n",
    "from sklearn.neighbors import KNeighborsRegressor"
   ]
  },
  {
   "cell_type": "code",
   "execution_count": 35,
   "id": "11210713",
   "metadata": {},
   "outputs": [],
   "source": [
    "# Criando o regressor e fazendo o fit com os dados de treino\n",
    "reg_knn = KNeighborsRegressor(n_neighbors=2).fit(X_train, y_train)"
   ]
  },
  {
   "cell_type": "code",
   "execution_count": 36,
   "id": "b337d25a",
   "metadata": {},
   "outputs": [],
   "source": [
    "# Fazendo a previsão\n",
    "y_knn = reg_knn.predict(X_test)"
   ]
  },
  {
   "cell_type": "markdown",
   "id": "fdd63bff",
   "metadata": {},
   "source": [
    "- **E avaliar esses dados, utilizando tanto o erro absoluto quanto o quadrático:**\n",
    "    - Erro médio absoluto\n",
    "        - https://scikit-learn.org/stable/modules/generated/sklearn.metrics.mean_absolute_error.html\n",
    "    - Erro quadrático médio\n",
    "        - https://scikit-learn.org/stable/modules/generated/sklearn.metrics.mean_squared_error.html"
   ]
  },
  {
   "cell_type": "code",
   "execution_count": 37,
   "id": "269a3bcd",
   "metadata": {},
   "outputs": [],
   "source": [
    "# Importando o erro médio absoluto\n",
    "from sklearn.metrics import mean_absolute_error"
   ]
  },
  {
   "cell_type": "code",
   "execution_count": 38,
   "id": "12eb2132",
   "metadata": {},
   "outputs": [],
   "source": [
    "# E o erro quadrático médio\n",
    "from sklearn.metrics import mean_squared_error"
   ]
  },
  {
   "cell_type": "code",
   "execution_count": 39,
   "id": "14769a7a",
   "metadata": {},
   "outputs": [
    {
     "name": "stdout",
     "output_type": "stream",
     "text": [
      "Erro médio absoluto:  22764.02623654414\n",
      "Erro quadrático médio:  1197736462.2396064\n"
     ]
    }
   ],
   "source": [
    "# Avaliando o erro da regressão\n",
    "print(\"Erro médio absoluto: \", mean_absolute_error(y_test, y_rl))\n",
    "print(\"Erro quadrático médio: \", mean_squared_error(y_test, y_rl))"
   ]
  },
  {
   "cell_type": "code",
   "execution_count": 40,
   "id": "2417d97e",
   "metadata": {},
   "outputs": [
    {
     "name": "stdout",
     "output_type": "stream",
     "text": [
      "Erro médio absoluto:  27420.577625570775\n",
      "Erro quadrático médio:  1753168141.2123287\n"
     ]
    }
   ],
   "source": [
    "# da árvore de decisão\n",
    "print(\"Erro médio absoluto: \", mean_absolute_error(y_test, y_ar))\n",
    "print(\"Erro quadrático médio: \", mean_squared_error(y_test, y_ar))"
   ]
  },
  {
   "cell_type": "code",
   "execution_count": 41,
   "id": "b3159911",
   "metadata": {},
   "outputs": [
    {
     "name": "stdout",
     "output_type": "stream",
     "text": [
      "Erro médio absoluto:  32618.238584474886\n",
      "Erro quadrático médio:  2489885345.465183\n"
     ]
    }
   ],
   "source": [
    "# e do knn\n",
    "print(\"Erro médio absoluto: \", mean_absolute_error(y_test, y_knn))\n",
    "print(\"Erro quadrático médio: \", mean_squared_error(y_test, y_knn))"
   ]
  },
  {
   "cell_type": "markdown",
   "id": "162028e9",
   "metadata": {},
   "source": [
    "- **Podemos plotar visualmente a relação do y_test com as previsões feitas**\n",
    "    - Para isso vamos utilizar o matplotlib\n",
    "        - https://matplotlib.org/"
   ]
  },
  {
   "cell_type": "code",
   "execution_count": 42,
   "id": "7e5f78f8",
   "metadata": {},
   "outputs": [],
   "source": [
    "# Importando o matplotlib\n",
    "import matplotlib.pyplot as plt"
   ]
  },
  {
   "cell_type": "code",
   "execution_count": 45,
   "id": "a6bf59eb",
   "metadata": {},
   "outputs": [
    {
     "data": {
      "image/png": "[encoded data removed]",
      "text/plain": [
       "<Figure size 1500x500 with 3 Axes>"
      ]
     },
     "metadata": {},
     "output_type": "display_data"
    }
   ],
   "source": [
    "# Criando esse gráfico\n",
    "y_pred = reg_rl.predict(X_test)  # Define y_pred as predictions from the linear regression model\n",
    "y_pred_ar = reg_ar.predict(X_test)  # Define y_pred_ar as predictions from the Decision Tree Regressor\n",
    "fig, ax = plt.subplots(ncols=3, figsize=(15, 5))\n",
    "\n",
    "ax[0].scatter(y_test / 100000, y_pred / 100000)\n",
    "ax[0].plot([0, 7], [0, 7], '--r')\n",
    "ax[1].scatter(y_test / 100000, y_pred_ar / 100000)\n",
    "ax[1].plot([0, 7], [0, 7], '--r')\n",
    "ax[2].scatter(y_test / 100000, y_knn / 100000)\n",
    "ax[2].plot([0, 7], [0, 7], '--r')\n",
    "\n",
    "ax[0].set(xlim=(0, 7), ylim=(0, 7))\n",
    "ax[0].set_xlabel('Real')\n",
    "ax[0].set_ylabel('Previsão')\n",
    "ax[1].set(xlim=(0, 7), ylim=(0, 7))\n",
    "ax[1].set_xlabel('Real')\n",
    "ax[1].set_ylabel('Previsão')\n",
    "ax[2].set(xlim=(0, 7), ylim=(0, 7))\n",
    "ax[2].set_xlabel('Real')\n",
    "ax[2].set_ylabel('Previsão')\n",
    "\n",
    "plt.show()"
   ]
  },
  {
   "cell_type": "markdown",
   "id": "e262938a",
   "metadata": {},
   "source": [
    "- **Vamos utilizar a Regressão Linear por ter sido o algoritmo com menor erro quadrático médio, a mesma métrica avaliada pelo Kaggle na hora de classificar os modelos**"
   ]
  },
  {
   "cell_type": "markdown",
   "id": "d855508c",
   "metadata": {},
   "source": [
    "## Fazendo a previsão para a base de teste da competição"
   ]
  },
  {
   "cell_type": "code",
   "execution_count": 48,
   "id": "8d98c739",
   "metadata": {},
   "outputs": [],
   "source": [
    "# Importando a base de teste\n",
    "teste = pd.read_csv(\"test.csv\")"
   ]
  },
  {
   "cell_type": "code",
   "execution_count": 49,
   "id": "83a9ca6f",
   "metadata": {},
   "outputs": [
    {
     "data": {
      "application/vnd.microsoft.datawrangler.viewer.v0+json": {
       "columns": [
        {
         "name": "index",
         "rawType": "int64",
         "type": "integer"
        },
        {
         "name": "Id",
         "rawType": "int64",
         "type": "integer"
        },
        {
         "name": "MSSubClass",
         "rawType": "int64",
         "type": "integer"
        },
        {
         "name": "MSZoning",
         "rawType": "object",
         "type": "string"
        },
        {
         "name": "LotFrontage",
         "rawType": "float64",
         "type": "float"
        },
        {
         "name": "LotArea",
         "rawType": "int64",
         "type": "integer"
        },
        {
         "name": "Street",
         "rawType": "object",
         "type": "string"
        },
        {
         "name": "Alley",
         "rawType": "object",
         "type": "unknown"
        },
        {
         "name": "LotShape",
         "rawType": "object",
         "type": "string"
        },
        {
         "name": "LandContour",
         "rawType": "object",
         "type": "string"
        },
        {
         "name": "Utilities",
         "rawType": "object",
         "type": "string"
        },
        {
         "name": "LotConfig",
         "rawType": "object",
         "type": "string"
        },
        {
         "name": "LandSlope",
         "rawType": "object",
         "type": "string"
        },
        {
         "name": "Neighborhood",
         "rawType": "object",
         "type": "string"
        },
        {
         "name": "Condition1",
         "rawType": "object",
         "type": "string"
        },
        {
         "name": "Condition2",
         "rawType": "object",
         "type": "string"
        },
        {
         "name": "BldgType",
         "rawType": "object",
         "type": "string"
        },
        {
         "name": "HouseStyle",
         "rawType": "object",
         "type": "string"
        },
        {
         "name": "OverallQual",
         "rawType": "int64",
         "type": "integer"
        },
        {
         "name": "OverallCond",
         "rawType": "int64",
         "type": "integer"
        },
        {
         "name": "YearBuilt",
         "rawType": "int64",
         "type": "integer"
        },
        {
         "name": "YearRemodAdd",
         "rawType": "int64",
         "type": "integer"
        },
        {
         "name": "RoofStyle",
         "rawType": "object",
         "type": "string"
        },
        {
         "name": "RoofMatl",
         "rawType": "object",
         "type": "string"
        },
        {
         "name": "Exterior1st",
         "rawType": "object",
         "type": "string"
        },
        {
         "name": "Exterior2nd",
         "rawType": "object",
         "type": "string"
        },
        {
         "name": "MasVnrType",
         "rawType": "object",
         "type": "unknown"
        },
        {
         "name": "MasVnrArea",
         "rawType": "float64",
         "type": "float"
        },
        {
         "name": "ExterQual",
         "rawType": "object",
         "type": "string"
        },
        {
         "name": "ExterCond",
         "rawType": "object",
         "type": "string"
        },
        {
         "name": "Foundation",
         "rawType": "object",
         "type": "string"
        },
        {
         "name": "BsmtQual",
         "rawType": "object",
         "type": "string"
        },
        {
         "name": "BsmtCond",
         "rawType": "object",
         "type": "string"
        },
        {
         "name": "BsmtExposure",
         "rawType": "object",
         "type": "string"
        },
        {
         "name": "BsmtFinType1",
         "rawType": "object",
         "type": "string"
        },
        {
         "name": "BsmtFinSF1",
         "rawType": "float64",
         "type": "float"
        },
        {
         "name": "BsmtFinType2",
         "rawType": "object",
         "type": "string"
        },
        {
         "name": "BsmtFinSF2",
         "rawType": "float64",
         "type": "float"
        },
        {
         "name": "BsmtUnfSF",
         "rawType": "float64",
         "type": "float"
        },
        {
         "name": "TotalBsmtSF",
         "rawType": "float64",
         "type": "float"
        },
        {
         "name": "Heating",
         "rawType": "object",
         "type": "string"
        },
        {
         "name": "HeatingQC",
         "rawType": "object",
         "type": "string"
        },
        {
         "name": "CentralAir",
         "rawType": "object",
         "type": "string"
        },
        {
         "name": "Electrical",
         "rawType": "object",
         "type": "string"
        },
        {
         "name": "1stFlrSF",
         "rawType": "int64",
         "type": "integer"
        },
        {
         "name": "2ndFlrSF",
         "rawType": "int64",
         "type": "integer"
        },
        {
         "name": "LowQualFinSF",
         "rawType": "int64",
         "type": "integer"
        },
        {
         "name": "GrLivArea",
         "rawType": "int64",
         "type": "integer"
        },
        {
         "name": "BsmtFullBath",
         "rawType": "float64",
         "type": "float"
        },
        {
         "name": "BsmtHalfBath",
         "rawType": "float64",
         "type": "float"
        },
        {
         "name": "FullBath",
         "rawType": "int64",
         "type": "integer"
        },
        {
         "name": "HalfBath",
         "rawType": "int64",
         "type": "integer"
        },
        {
         "name": "BedroomAbvGr",
         "rawType": "int64",
         "type": "integer"
        },
        {
         "name": "KitchenAbvGr",
         "rawType": "int64",
         "type": "integer"
        },
        {
         "name": "KitchenQual",
         "rawType": "object",
         "type": "string"
        },
        {
         "name": "TotRmsAbvGrd",
         "rawType": "int64",
         "type": "integer"
        },
        {
         "name": "Functional",
         "rawType": "object",
         "type": "string"
        },
        {
         "name": "Fireplaces",
         "rawType": "int64",
         "type": "integer"
        },
        {
         "name": "FireplaceQu",
         "rawType": "object",
         "type": "unknown"
        },
        {
         "name": "GarageType",
         "rawType": "object",
         "type": "string"
        },
        {
         "name": "GarageYrBlt",
         "rawType": "float64",
         "type": "float"
        },
        {
         "name": "GarageFinish",
         "rawType": "object",
         "type": "string"
        },
        {
         "name": "GarageCars",
         "rawType": "float64",
         "type": "float"
        },
        {
         "name": "GarageArea",
         "rawType": "float64",
         "type": "float"
        },
        {
         "name": "GarageQual",
         "rawType": "object",
         "type": "string"
        },
        {
         "name": "GarageCond",
         "rawType": "object",
         "type": "string"
        },
        {
         "name": "PavedDrive",
         "rawType": "object",
         "type": "string"
        },
        {
         "name": "WoodDeckSF",
         "rawType": "int64",
         "type": "integer"
        },
        {
         "name": "OpenPorchSF",
         "rawType": "int64",
         "type": "integer"
        },
        {
         "name": "EnclosedPorch",
         "rawType": "int64",
         "type": "integer"
        },
        {
         "name": "3SsnPorch",
         "rawType": "int64",
         "type": "integer"
        },
        {
         "name": "ScreenPorch",
         "rawType": "int64",
         "type": "integer"
        },
        {
         "name": "PoolArea",
         "rawType": "int64",
         "type": "integer"
        },
        {
         "name": "PoolQC",
         "rawType": "object",
         "type": "unknown"
        },
        {
         "name": "Fence",
         "rawType": "object",
         "type": "unknown"
        },
        {
         "name": "MiscFeature",
         "rawType": "object",
         "type": "unknown"
        },
        {
         "name": "MiscVal",
         "rawType": "int64",
         "type": "integer"
        },
        {
         "name": "MoSold",
         "rawType": "int64",
         "type": "integer"
        },
        {
         "name": "YrSold",
         "rawType": "int64",
         "type": "integer"
        },
        {
         "name": "SaleType",
         "rawType": "object",
         "type": "string"
        },
        {
         "name": "SaleCondition",
         "rawType": "object",
         "type": "string"
        }
       ],
       "conversionMethod": "pd.DataFrame",
       "ref": "17813fb5-a351-4d10-83db-edd3fb742205",
       "rows": [
        [
         "0",
         "1461",
         "20",
         "RH",
         "80.0",
         "11622",
         "Pave",
         null,
         "Reg",
         "Lvl",
         "AllPub",
         "Inside",
         "Gtl",
         "NAmes",
         "Feedr",
         "Norm",
         "1Fam",
         "1Story",
         "5",
         "6",
         "1961",
         "1961",
         "Gable",
         "CompShg",
         "VinylSd",
         "VinylSd",
         null,
         "0.0",
         "TA",
         "TA",
         "CBlock",
         "TA",
         "TA",
         "No",
         "Rec",
         "468.0",
         "LwQ",
         "144.0",
         "270.0",
         "882.0",
         "GasA",
         "TA",
         "Y",
         "SBrkr",
         "896",
         "0",
         "0",
         "896",
         "0.0",
         "0.0",
         "1",
         "0",
         "2",
         "1",
         "TA",
         "5",
         "Typ",
         "0",
         null,
         "Attchd",
         "1961.0",
         "Unf",
         "1.0",
         "730.0",
         "TA",
         "TA",
         "Y",
         "140",
         "0",
         "0",
         "0",
         "120",
         "0",
         null,
         "MnPrv",
         null,
         "0",
         "6",
         "2010",
         "WD",
         "Normal"
        ],
        [
         "1",
         "1462",
         "20",
         "RL",
         "81.0",
         "14267",
         "Pave",
         null,
         "IR1",
         "Lvl",
         "AllPub",
         "Corner",
         "Gtl",
         "NAmes",
         "Norm",
         "Norm",
         "1Fam",
         "1Story",
         "6",
         "6",
         "1958",
         "1958",
         "Hip",
         "CompShg",
         "Wd Sdng",
         "Wd Sdng",
         "BrkFace",
         "108.0",
         "TA",
         "TA",
         "CBlock",
         "TA",
         "TA",
         "No",
         "ALQ",
         "923.0",
         "Unf",
         "0.0",
         "406.0",
         "1329.0",
         "GasA",
         "TA",
         "Y",
         "SBrkr",
         "1329",
         "0",
         "0",
         "1329",
         "0.0",
         "0.0",
         "1",
         "1",
         "3",
         "1",
         "Gd",
         "6",
         "Typ",
         "0",
         null,
         "Attchd",
         "1958.0",
         "Unf",
         "1.0",
         "312.0",
         "TA",
         "TA",
         "Y",
         "393",
         "36",
         "0",
         "0",
         "0",
         "0",
         null,
         null,
         "Gar2",
         "12500",
         "6",
         "2010",
         "WD",
         "Normal"
        ],
        [
         "2",
         "1463",
         "60",
         "RL",
         "74.0",
         "13830",
         "Pave",
         null,
         "IR1",
         "Lvl",
         "AllPub",
         "Inside",
         "Gtl",
         "Gilbert",
         "Norm",
         "Norm",
         "1Fam",
         "2Story",
         "5",
         "5",
         "1997",
         "1998",
         "Gable",
         "CompShg",
         "VinylSd",
         "VinylSd",
         null,
         "0.0",
         "TA",
         "TA",
         "PConc",
         "Gd",
         "TA",
         "No",
         "GLQ",
         "791.0",
         "Unf",
         "0.0",
         "137.0",
         "928.0",
         "GasA",
         "Gd",
         "Y",
         "SBrkr",
         "928",
         "701",
         "0",
         "1629",
         "0.0",
         "0.0",
         "2",
         "1",
         "3",
         "1",
         "TA",
         "6",
         "Typ",
         "1",
         "TA",
         "Attchd",
         "1997.0",
         "Fin",
         "2.0",
         "482.0",
         "TA",
         "TA",
         "Y",
         "212",
         "34",
         "0",
         "0",
         "0",
         "0",
         null,
         "MnPrv",
         null,
         "0",
         "3",
         "2010",
         "WD",
         "Normal"
        ],
        [
         "3",
         "1464",
         "60",
         "RL",
         "78.0",
         "9978",
         "Pave",
         null,
         "IR1",
         "Lvl",
         "AllPub",
         "Inside",
         "Gtl",
         "Gilbert",
         "Norm",
         "Norm",
         "1Fam",
         "2Story",
         "6",
         "6",
         "1998",
         "1998",
         "Gable",
         "CompShg",
         "VinylSd",
         "VinylSd",
         "BrkFace",
         "20.0",
         "TA",
         "TA",
         "PConc",
         "TA",
         "TA",
         "No",
         "GLQ",
         "602.0",
         "Unf",
         "0.0",
         "324.0",
         "926.0",
         "GasA",
         "Ex",
         "Y",
         "SBrkr",
         "926",
         "678",
         "0",
         "1604",
         "0.0",
         "0.0",
         "2",
         "1",
         "3",
         "1",
         "Gd",
         "7",
         "Typ",
         "1",
         "Gd",
         "Attchd",
         "1998.0",
         "Fin",
         "2.0",
         "470.0",
         "TA",
         "TA",
         "Y",
         "360",
         "36",
         "0",
         "0",
         "0",
         "0",
         null,
         null,
         null,
         "0",
         "6",
         "2010",
         "WD",
         "Normal"
        ],
        [
         "4",
         "1465",
         "120",
         "RL",
         "43.0",
         "5005",
         "Pave",
         null,
         "IR1",
         "HLS",
         "AllPub",
         "Inside",
         "Gtl",
         "StoneBr",
         "Norm",
         "Norm",
         "TwnhsE",
         "1Story",
         "8",
         "5",
         "1992",
         "1992",
         "Gable",
         "CompShg",
         "HdBoard",
         "HdBoard",
         null,
         "0.0",
         "Gd",
         "TA",
         "PConc",
         "Gd",
         "TA",
         "No",
         "ALQ",
         "263.0",
         "Unf",
         "0.0",
         "1017.0",
         "1280.0",
         "GasA",
         "Ex",
         "Y",
         "SBrkr",
         "1280",
         "0",
         "0",
         "1280",
         "0.0",
         "0.0",
         "2",
         "0",
         "2",
         "1",
         "Gd",
         "5",
         "Typ",
         "0",
         null,
         "Attchd",
         "1992.0",
         "RFn",
         "2.0",
         "506.0",
         "TA",
         "TA",
         "Y",
         "0",
         "82",
         "0",
         "0",
         "144",
         "0",
         null,
         null,
         null,
         "0",
         "1",
         "2010",
         "WD",
         "Normal"
        ]
       ],
       "shape": {
        "columns": 80,
        "rows": 5
       }
      },
      "text/html": [
       "<div>\n",
       "<style scoped>\n",
       "    .dataframe tbody tr th:only-of-type {\n",
       "        vertical-align: middle;\n",
       "    }\n",
       "\n",
       "    .dataframe tbody tr th {\n",
       "        vertical-align: top;\n",
       "    }\n",
       "\n",
       "    .dataframe thead th {\n",
       "        text-align: right;\n",
       "    }\n",
       "</style>\n",
       "<table border=\"1\" class=\"dataframe\">\n",
       "  <thead>\n",
       "    <tr style=\"text-align: right;\">\n",
       "      <th></th>\n",
       "      <th>Id</th>\n",
       "      <th>MSSubClass</th>\n",
       "      <th>MSZoning</th>\n",
       "      <th>LotFrontage</th>\n",
       "      <th>LotArea</th>\n",
       "      <th>Street</th>\n",
       "      <th>Alley</th>\n",
       "      <th>LotShape</th>\n",
       "      <th>LandContour</th>\n",
       "      <th>Utilities</th>\n",
       "      <th>...</th>\n",
       "      <th>ScreenPorch</th>\n",
       "      <th>PoolArea</th>\n",
       "      <th>PoolQC</th>\n",
       "      <th>Fence</th>\n",
       "      <th>MiscFeature</th>\n",
       "      <th>MiscVal</th>\n",
       "      <th>MoSold</th>\n",
       "      <th>YrSold</th>\n",
       "      <th>SaleType</th>\n",
       "      <th>SaleCondition</th>\n",
       "    </tr>\n",
       "  </thead>\n",
       "  <tbody>\n",
       "    <tr>\n",
       "      <th>0</th>\n",
       "      <td>1461</td>\n",
       "      <td>20</td>\n",
       "      <td>RH</td>\n",
       "      <td>80.0</td>\n",
       "      <td>11622</td>\n",
       "      <td>Pave</td>\n",
       "      <td>NaN</td>\n",
       "      <td>Reg</td>\n",
       "      <td>Lvl</td>\n",
       "      <td>AllPub</td>\n",
       "      <td>...</td>\n",
       "      <td>120</td>\n",
       "      <td>0</td>\n",
       "      <td>NaN</td>\n",
       "      <td>MnPrv</td>\n",
       "      <td>NaN</td>\n",
       "      <td>0</td>\n",
       "      <td>6</td>\n",
       "      <td>2010</td>\n",
       "      <td>WD</td>\n",
       "      <td>Normal</td>\n",
       "    </tr>\n",
       "    <tr>\n",
       "      <th>1</th>\n",
       "      <td>1462</td>\n",
       "      <td>20</td>\n",
       "      <td>RL</td>\n",
       "      <td>81.0</td>\n",
       "      <td>14267</td>\n",
       "      <td>Pave</td>\n",
       "      <td>NaN</td>\n",
       "      <td>IR1</td>\n",
       "      <td>Lvl</td>\n",
       "      <td>AllPub</td>\n",
       "      <td>...</td>\n",
       "      <td>0</td>\n",
       "      <td>0</td>\n",
       "      <td>NaN</td>\n",
       "      <td>NaN</td>\n",
       "      <td>Gar2</td>\n",
       "      <td>12500</td>\n",
       "      <td>6</td>\n",
       "      <td>2010</td>\n",
       "      <td>WD</td>\n",
       "      <td>Normal</td>\n",
       "    </tr>\n",
       "    <tr>\n",
       "      <th>2</th>\n",
       "      <td>1463</td>\n",
       "      <td>60</td>\n",
       "      <td>RL</td>\n",
       "      <td>74.0</td>\n",
       "      <td>13830</td>\n",
       "      <td>Pave</td>\n",
       "      <td>NaN</td>\n",
       "      <td>IR1</td>\n",
       "      <td>Lvl</td>\n",
       "      <td>AllPub</td>\n",
       "      <td>...</td>\n",
       "      <td>0</td>\n",
       "      <td>0</td>\n",
       "      <td>NaN</td>\n",
       "      <td>MnPrv</td>\n",
       "      <td>NaN</td>\n",
       "      <td>0</td>\n",
       "      <td>3</td>\n",
       "      <td>2010</td>\n",
       "      <td>WD</td>\n",
       "      <td>Normal</td>\n",
       "    </tr>\n",
       "    <tr>\n",
       "      <th>3</th>\n",
       "      <td>1464</td>\n",
       "      <td>60</td>\n",
       "      <td>RL</td>\n",
       "      <td>78.0</td>\n",
       "      <td>9978</td>\n",
       "      <td>Pave</td>\n",
       "      <td>NaN</td>\n",
       "      <td>IR1</td>\n",
       "      <td>Lvl</td>\n",
       "      <td>AllPub</td>\n",
       "      <td>...</td>\n",
       "      <td>0</td>\n",
       "      <td>0</td>\n",
       "      <td>NaN</td>\n",
       "      <td>NaN</td>\n",
       "      <td>NaN</td>\n",
       "      <td>0</td>\n",
       "      <td>6</td>\n",
       "      <td>2010</td>\n",
       "      <td>WD</td>\n",
       "      <td>Normal</td>\n",
       "    </tr>\n",
       "    <tr>\n",
       "      <th>4</th>\n",
       "      <td>1465</td>\n",
       "      <td>120</td>\n",
       "      <td>RL</td>\n",
       "      <td>43.0</td>\n",
       "      <td>5005</td>\n",
       "      <td>Pave</td>\n",
       "      <td>NaN</td>\n",
       "      <td>IR1</td>\n",
       "      <td>HLS</td>\n",
       "      <td>AllPub</td>\n",
       "      <td>...</td>\n",
       "      <td>144</td>\n",
       "      <td>0</td>\n",
       "      <td>NaN</td>\n",
       "      <td>NaN</td>\n",
       "      <td>NaN</td>\n",
       "      <td>0</td>\n",
       "      <td>1</td>\n",
       "      <td>2010</td>\n",
       "      <td>WD</td>\n",
       "      <td>Normal</td>\n",
       "    </tr>\n",
       "  </tbody>\n",
       "</table>\n",
       "<p>5 rows × 80 columns</p>\n",
       "</div>"
      ],
      "text/plain": [
       "     Id  MSSubClass MSZoning  LotFrontage  LotArea Street Alley LotShape  \\\n",
       "0  1461          20       RH         80.0    11622   Pave   NaN      Reg   \n",
       "1  1462          20       RL         81.0    14267   Pave   NaN      IR1   \n",
       "2  1463          60       RL         74.0    13830   Pave   NaN      IR1   \n",
       "3  1464          60       RL         78.0     9978   Pave   NaN      IR1   \n",
       "4  1465         120       RL         43.0     5005   Pave   NaN      IR1   \n",
       "\n",
       "  LandContour Utilities  ... ScreenPorch PoolArea PoolQC  Fence MiscFeature  \\\n",
       "0         Lvl    AllPub  ...         120        0    NaN  MnPrv         NaN   \n",
       "1         Lvl    AllPub  ...           0        0    NaN    NaN        Gar2   \n",
       "2         Lvl    AllPub  ...           0        0    NaN  MnPrv         NaN   \n",
       "3         Lvl    AllPub  ...           0        0    NaN    NaN         NaN   \n",
       "4         HLS    AllPub  ...         144        0    NaN    NaN         NaN   \n",
       "\n",
       "  MiscVal MoSold  YrSold  SaleType  SaleCondition  \n",
       "0       0      6    2010        WD         Normal  \n",
       "1   12500      6    2010        WD         Normal  \n",
       "2       0      3    2010        WD         Normal  \n",
       "3       0      6    2010        WD         Normal  \n",
       "4       0      1    2010        WD         Normal  \n",
       "\n",
       "[5 rows x 80 columns]"
      ]
     },
     "execution_count": 49,
     "metadata": {},
     "output_type": "execute_result"
    }
   ],
   "source": [
    "# Visualizando a base\n",
    "teste.head()"
   ]
  },
  {
   "cell_type": "markdown",
   "id": "c78b0e24",
   "metadata": {},
   "source": [
    "- **Agora vamos repetir os mesmos tratamentos que fizemos na base de treino**\n",
    "    - Obs: **não podemos excluir linhas**"
   ]
  },
  {
   "cell_type": "code",
   "execution_count": 50,
   "id": "ffe3cade",
   "metadata": {},
   "outputs": [],
   "source": [
    "# Eliminando as mesmas colunas da base de treino\n",
    "teste = teste.drop(eliminar, axis=1)"
   ]
  },
  {
   "cell_type": "code",
   "execution_count": 51,
   "id": "cfce9334",
   "metadata": {},
   "outputs": [],
   "source": [
    "# Verificando as colunas numéricas\n",
    "colunas2 = teste.columns[teste.dtypes != \"object\"]"
   ]
  },
  {
   "cell_type": "code",
   "execution_count": 52,
   "id": "f1cab80b",
   "metadata": {},
   "outputs": [],
   "source": [
    "# Mantendo também apenas as colunas numéricas\n",
    "teste = teste.loc[:,colunas2]"
   ]
  },
  {
   "cell_type": "code",
   "execution_count": 53,
   "id": "eb322627",
   "metadata": {},
   "outputs": [
    {
     "name": "stdout",
     "output_type": "stream",
     "text": [
      "<class 'pandas.core.frame.DataFrame'>\n",
      "RangeIndex: 1459 entries, 0 to 1458\n",
      "Data columns (total 36 columns):\n",
      " #   Column         Non-Null Count  Dtype  \n",
      "---  ------         --------------  -----  \n",
      " 0   Id             1459 non-null   int64  \n",
      " 1   MSSubClass     1459 non-null   int64  \n",
      " 2   LotArea        1459 non-null   int64  \n",
      " 3   OverallQual    1459 non-null   int64  \n",
      " 4   OverallCond    1459 non-null   int64  \n",
      " 5   YearBuilt      1459 non-null   int64  \n",
      " 6   YearRemodAdd   1459 non-null   int64  \n",
      " 7   MasVnrArea     1444 non-null   float64\n",
      " 8   BsmtFinSF1     1458 non-null   float64\n",
      " 9   BsmtFinSF2     1458 non-null   float64\n",
      " 10  BsmtUnfSF      1458 non-null   float64\n",
      " 11  TotalBsmtSF    1458 non-null   float64\n",
      " 12  1stFlrSF       1459 non-null   int64  \n",
      " 13  2ndFlrSF       1459 non-null   int64  \n",
      " 14  LowQualFinSF   1459 non-null   int64  \n",
      " 15  GrLivArea      1459 non-null   int64  \n",
      " 16  BsmtFullBath   1457 non-null   float64\n",
      " 17  BsmtHalfBath   1457 non-null   float64\n",
      " 18  FullBath       1459 non-null   int64  \n",
      " 19  HalfBath       1459 non-null   int64  \n",
      " 20  BedroomAbvGr   1459 non-null   int64  \n",
      " 21  KitchenAbvGr   1459 non-null   int64  \n",
      " 22  TotRmsAbvGrd   1459 non-null   int64  \n",
      " 23  Fireplaces     1459 non-null   int64  \n",
      " 24  GarageYrBlt    1381 non-null   float64\n",
      " 25  GarageCars     1458 non-null   float64\n",
      " 26  GarageArea     1458 non-null   float64\n",
      " 27  WoodDeckSF     1459 non-null   int64  \n",
      " 28  OpenPorchSF    1459 non-null   int64  \n",
      " 29  EnclosedPorch  1459 non-null   int64  \n",
      " 30  3SsnPorch      1459 non-null   int64  \n",
      " 31  ScreenPorch    1459 non-null   int64  \n",
      " 32  PoolArea       1459 non-null   int64  \n",
      " 33  MiscVal        1459 non-null   int64  \n",
      " 34  MoSold         1459 non-null   int64  \n",
      " 35  YrSold         1459 non-null   int64  \n",
      "dtypes: float64(10), int64(26)\n",
      "memory usage: 410.5 KB\n"
     ]
    }
   ],
   "source": [
    "# Verificando a base restante\n",
    "teste.info()"
   ]
  },
  {
   "cell_type": "code",
   "execution_count": 54,
   "id": "194b4c8a",
   "metadata": {},
   "outputs": [
    {
     "data": {
      "text/plain": [
       "GarageYrBlt     78\n",
       "MasVnrArea      15\n",
       "BsmtHalfBath     2\n",
       "BsmtFullBath     2\n",
       "GarageCars       1\n",
       "GarageArea       1\n",
       "BsmtFinSF2       1\n",
       "BsmtUnfSF        1\n",
       "TotalBsmtSF      1\n",
       "BsmtFinSF1       1\n",
       "MSSubClass       0\n",
       "Id               0\n",
       "OverallQual      0\n",
       "LotArea          0\n",
       "YearBuilt        0\n",
       "2ndFlrSF         0\n",
       "GrLivArea        0\n",
       "OverallCond      0\n",
       "1stFlrSF         0\n",
       "YearRemodAdd     0\n",
       "dtype: int64"
      ]
     },
     "execution_count": 54,
     "metadata": {},
     "output_type": "execute_result"
    }
   ],
   "source": [
    "# Visualizando quantidade de valores vazios\n",
    "teste.isnull().sum().sort_values(ascending=False).head(20)"
   ]
  },
  {
   "cell_type": "markdown",
   "id": "604cfd7e",
   "metadata": {},
   "source": [
    "- **Vamos precisar retirar os valores vazios pois a regressão linear não vai conseguir trabalhar com valores vazio**\n",
    "    - Se tentarmos usar essa base, ele vai retornar um **erro** dizendo que o **input possui valores NaN**\n",
    "- Podemos apenas substituir por -1 como fizemos acima"
   ]
  },
  {
   "cell_type": "code",
   "execution_count": 56,
   "id": "77fdbe03",
   "metadata": {},
   "outputs": [],
   "source": [
    "# Substituindo os valores vazios por -1\n",
    "teste = teste.fillna(-1)"
   ]
  },
  {
   "cell_type": "markdown",
   "id": "db767eed",
   "metadata": {},
   "source": [
    "- **Agora podemos usar nosso modelo e ajustar os dados para usarmos no Kaggle**"
   ]
  },
  {
   "cell_type": "code",
   "execution_count": 58,
   "id": "9b09d278",
   "metadata": {},
   "outputs": [],
   "source": [
    "y_pred = reg_rl.predict(teste)"
   ]
  },
  {
   "cell_type": "code",
   "execution_count": 59,
   "id": "bc1fd647",
   "metadata": {},
   "outputs": [],
   "source": [
    "# E extrair somente o Id e o SalePrice\n",
    "teste[\"SalePrice\"] = y_pred"
   ]
  },
  {
   "cell_type": "code",
   "execution_count": 61,
   "id": "9513b665",
   "metadata": {},
   "outputs": [],
   "source": [
    "# Podemos então exportar essa base.to_csv(\"submission.csv\", index=False)\n",
    "resultado = teste[[\"Id\", \"SalePrice\"]]"
   ]
  },
  {
   "cell_type": "code",
   "execution_count": 62,
   "id": "5e4d398b",
   "metadata": {},
   "outputs": [],
   "source": [
    "resultado.to_csv(\"submission.csv\", index=False)"
   ]
  },
  {
   "cell_type": "markdown",
   "id": "06034ac0",
   "metadata": {},
   "source": [
    "- **Próximos passos**\n",
    "    - Você pode tentar melhorar a limpeza dos seus dados \n",
    "        - [Limpeza de Dados em um Dataset Real - Dados do Titanic](https://www.youtube.com/watch?v=RuDxj894BXQ&t=1218s)\n",
    "    - Depois é possível fazer a engenharia de recursos\n",
    "        - [Feature Engineering em Python para Seus Projetos de Ciência de Dados](https://www.youtube.com/watch?v=rigZ7HdfWaM&t=61s)\n",
    "    - A padronização / normalização dos dados\n",
    "        - [Padronização e Normalização de Dados para Ciência de Dados](https://www.youtube.com/watch?v=L6rLSYVBfyM&t=12s)\n",
    "    - E até a seleção de variáveis\n",
    "        - [Seleção de Recursos (Feature Selection) em Projetos de Ciência de Dados](https://www.youtube.com/watch?v=0yM07AURFRY&t=615s)"
   ]
  }
 ],
 "metadata": {
  "kernelspec": {
   "display_name": "venv",
   "language": "python",
   "name": "python3"
  },
  "language_info": {
   "codemirror_mode": {
    "name": "ipython",
    "version": 3
   },
   "file_extension": ".py",
   "mimetype": "text/x-python",
   "name": "python",
   "nbconvert_exporter": "python",
   "pygments_lexer": "ipython3",
   "version": "3.13.3"
  }
 },
 "nbformat": 4,
 "nbformat_minor": 5
}
